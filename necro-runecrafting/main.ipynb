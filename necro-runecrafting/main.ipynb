{
 "cells": [
  {
   "cell_type": "code",
   "execution_count": 1,
   "metadata": {},
   "outputs": [],
   "source": [
    "import cv2\n",
    "import numpy as np\n",
    "import time\n",
    "import threading\n",
    "import math\n",
    "import random\n",
    "from collections import Counter\n",
    "from IPython.display import clear_output\n",
    "\n",
    "import sys, os\n",
    "sys.path.append(\"../x11-window-interactor\")\n",
    "from x11_interactor import X11WindowInteractor"
   ]
  },
  {
   "cell_type": "code",
   "execution_count": 2,
   "metadata": {},
   "outputs": [
    {
     "name": "stdout",
     "output_type": "stream",
     "text": [
      "Click on the target window after running this...\n"
     ]
    }
   ],
   "source": [
    "# Initialize mouse and keyboard controllers\n",
    "interactor = X11WindowInteractor()\n",
    "\n",
    "# Global variable to control the start and stop of the script\n",
    "script_running = False\n",
    "\n",
    "# Main Roi\n",
    "main_roi = {'left': 0, 'top': 0, 'width': 3840, 'height': 2160}\n",
    "\n",
    "# HOH Presurge (ROI)\n",
    "hoh_presurge_roi = {'left': 1600, 'top': 200, 'width': 200, 'height': 200}\n",
    "\n",
    "# Dark Portal postsurge\n",
    "dark_portal_postsurge = {'left':1650, 'top':815, 'width':60, 'height':60}"
   ]
  },
  {
   "cell_type": "code",
   "execution_count": 6,
   "metadata": {},
   "outputs": [],
   "source": [
    "def find_image(template_path, screenshot):\n",
    "    # Load the template image and convert to grayscale\n",
    "    template = cv2.imread(template_path, cv2.IMREAD_GRAYSCALE)\n",
    "    template_edges = cv2.Canny(template, 0, 100)\n",
    "\n",
    "    # Convert screenshot to grayscale\n",
    "    gray = cv2.cvtColor(screenshot, cv2.COLOR_BGR2GRAY)\n",
    "    screenshot_edges = cv2.Canny(gray, 0, 100)\n",
    "\n",
    "    # Perform template matching using the edge images\n",
    "    result = cv2.matchTemplate(screenshot_edges, template_edges, cv2.TM_CCOEFF_NORMED)\n",
    "    _, max_val, _, max_loc = cv2.minMaxLoc(result)\n",
    "    # print(max_val)\n",
    "    # Get the coordinates and dimensions of the matched region\n",
    "    h, w = template.shape\n",
    "    top_left = max_loc\n",
    "    return top_left[0], top_left[1], w, h"
   ]
  },
  {
   "cell_type": "code",
   "execution_count": 7,
   "metadata": {},
   "outputs": [],
   "source": [
    "def randomize_click_position(center_x, center_y, width, height, shape='rectangle', roi_diminish=2):\n",
    "    if shape == 'circle':\n",
    "        # Randomize within a circle\n",
    "        radius = (min(width, height) // 2) // roi_diminish\n",
    "        angle = np.random.uniform(0, 2 * math.pi)\n",
    "        r = radius * np.sqrt(np.random.uniform(0, 1))\n",
    "        click_x = int(center_x + r * math.cos(angle))\n",
    "        click_y = int(center_y + r * math.sin(angle))\n",
    "    else:\n",
    "        # Randomize within a rectangle\n",
    "        area_width = width * 0.5\n",
    "        area_height = height * 0.5\n",
    "\n",
    "        left_bound = center_x - area_width / roi_diminish\n",
    "        right_bound = center_x + area_width / roi_diminish\n",
    "        top_bound = center_y - area_height / roi_diminish\n",
    "        bottom_bound = center_y + area_height / roi_diminish\n",
    "\n",
    "        click_x = int(np.random.normal(center_x, area_width / 6))\n",
    "        click_y = int(np.random.normal(center_y, area_height / 6))\n",
    "\n",
    "        click_x = min(max(click_x, left_bound), right_bound)\n",
    "        click_y = min(max(click_y, top_bound), bottom_bound)\n",
    "\n",
    "    return int(click_x), int(click_y)"
   ]
  },
  {
   "cell_type": "code",
   "execution_count": null,
   "metadata": {},
   "outputs": [],
   "source": []
  },
  {
   "cell_type": "code",
   "execution_count": 3,
   "metadata": {},
   "outputs": [
    {
     "name": "stdout",
     "output_type": "stream",
     "text": [
      "Interrupted by user.\n"
     ]
    }
   ],
   "source": [
    "cv2.namedWindow(\"test\", cv2.WINDOW_NORMAL)\n",
    "interactor.activate()\n",
    "while True:\n",
    "    img = interactor.capture()\n",
    "    cv2.imshow(\"test\", img)\n",
    "    if cv2.waitKey(1) & 0xFF == ord('q'):\n",
    "        print(\"Interrupted by user.\")\n",
    "        break\n",
    "cv2.destroyAllWindows()"
   ]
  }
 ],
 "metadata": {
  "kernelspec": {
   "display_name": "Python 3 (ipykernel)",
   "language": "python",
   "name": "python3"
  },
  "language_info": {
   "codemirror_mode": {
    "name": "ipython",
    "version": 3
   },
   "file_extension": ".py",
   "mimetype": "text/x-python",
   "name": "python",
   "nbconvert_exporter": "python",
   "pygments_lexer": "ipython3",
   "version": "3.13.2"
  }
 },
 "nbformat": 4,
 "nbformat_minor": 4
}
