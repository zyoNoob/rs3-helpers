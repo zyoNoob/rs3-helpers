{
 "cells": [
  {
   "cell_type": "code",
   "execution_count": 1,
   "metadata": {},
   "outputs": [],
   "source": [
    "import cv2\n",
    "import numpy as np\n",
    "import time\n",
    "import threading\n",
    "import math\n",
    "import random\n",
    "from collections import Counter\n",
    "from IPython.display import clear_output\n",
    "\n",
    "import sys, os\n",
    "sys.path.append(\"../x11-window-interactor\")\n",
    "from x11_interactor import X11WindowInteractor"
   ]
  },
  {
   "cell_type": "code",
   "execution_count": 2,
   "metadata": {},
   "outputs": [
    {
     "name": "stdout",
     "output_type": "stream",
     "text": [
      "Click on the target window after running this...\n"
     ]
    }
   ],
   "source": [
    "# Initialize mouse and keyboard controllers\n",
    "interactor = X11WindowInteractor()\n",
    "\n",
    "# Global variable to control the start and stop of the script\n",
    "script_running = False\n",
    "\n",
    "# Main Roi\n",
    "main_roi = {'left': 0, 'top': 0, 'width': 3840, 'height': 2160}\n",
    "\n",
    "# HOH Presurge (ROI)\n",
    "hoh_presurge_roi = {'left': 1600, 'top': 200, 'width': 200, 'height': 200}\n",
    "\n",
    "# Dark Portal postsurge\n",
    "dark_portal_postsurge = {'left':1650, 'top':815, 'width':60, 'height':60}"
   ]
  },
  {
   "cell_type": "code",
   "execution_count": 17,
   "metadata": {},
   "outputs": [
    {
     "name": "stdout",
     "output_type": "stream",
     "text": [
      "Interrupted by user.\n"
     ]
    }
   ],
   "source": [
    "cv2.namedWindow(\"test\", cv2.WINDOW_NORMAL)\n",
    "interactor.activate()\n",
    "while True:\n",
    "    img = interactor.capture()\n",
    "    cv2.imshow(\"test\", img)\n",
    "    if cv2.waitKey(1) & 0xFF == ord('q'):\n",
    "        print(\"Interrupted by user.\")\n",
    "        break\n",
    "cv2.destroyAllWindows()"
   ]
  }
 ],
 "metadata": {
  "kernelspec": {
   "display_name": "Python 3 (ipykernel)",
   "language": "python",
   "name": "python3"
  },
  "language_info": {
   "codemirror_mode": {
    "name": "ipython",
    "version": 3
   },
   "file_extension": ".py",
   "mimetype": "text/x-python",
   "name": "python",
   "nbconvert_exporter": "python",
   "pygments_lexer": "ipython3",
   "version": "3.13.2"
  }
 },
 "nbformat": 4,
 "nbformat_minor": 4
}
